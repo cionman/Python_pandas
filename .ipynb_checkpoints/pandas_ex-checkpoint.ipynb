{
 "cells": [
  {
   "cell_type": "code",
   "execution_count": 1,
   "metadata": {},
   "outputs": [],
   "source": [
    "import pandas as pd"
   ]
  },
  {
   "cell_type": "code",
   "execution_count": 2,
   "metadata": {},
   "outputs": [],
   "source": [
    "import numpy as np"
   ]
  },
  {
   "cell_type": "code",
   "execution_count": 3,
   "metadata": {},
   "outputs": [],
   "source": [
    "s = pd.Series([\"m\", \"i\", \"k\", \"u\", 3, 9, 39, 3.939])"
   ]
  },
  {
   "cell_type": "code",
   "execution_count": 4,
   "metadata": {},
   "outputs": [
    {
     "data": {
      "text/plain": [
       "0        m\n",
       "1        i\n",
       "2        k\n",
       "3        u\n",
       "4        3\n",
       "5        9\n",
       "6       39\n",
       "7    3.939\n",
       "dtype: object"
      ]
     },
     "execution_count": 4,
     "metadata": {},
     "output_type": "execute_result"
    }
   ],
   "source": [
    "s"
   ]
  },
  {
   "cell_type": "code",
   "execution_count": 10,
   "metadata": {},
   "outputs": [],
   "source": [
    "s = pd.Series([\"m\", \"i\", \"k\", \"u\", 3, 9, 39, 3.939], index=[\"A\",\"B\",\"Z\",\"X\", \"y\", \"h\", \"i\", \"D\" ])"
   ]
  },
  {
   "cell_type": "code",
   "execution_count": 11,
   "metadata": {},
   "outputs": [
    {
     "data": {
      "text/plain": [
       "A        m\n",
       "B        i\n",
       "Z        k\n",
       "X        u\n",
       "y        3\n",
       "h        9\n",
       "i       39\n",
       "D    3.939\n",
       "dtype: object"
      ]
     },
     "execution_count": 11,
     "metadata": {},
     "output_type": "execute_result"
    }
   ],
   "source": [
    "s"
   ]
  },
  {
   "cell_type": "code",
   "execution_count": 12,
   "metadata": {},
   "outputs": [],
   "source": [
    "heroes_dict = { 'ana':200, 'bastion':300, 'dva':500, 'genji':200, 'hanjo':200, 'junkrat':200, 'lucio':200, 'macree':200, 'mei':250, 'mercy':200, 'pharah':200, 'reaper':250, 'reinhardt':500, 'roadhog':600, 'soldier76':200, 'symmetra':200, 'torbjorn':200, 'tracer':150, 'widowmaker':200, 'winston':500, 'zarya':400, 'zenyatta':200 }"
   ]
  },
  {
   "cell_type": "code",
   "execution_count": 13,
   "metadata": {},
   "outputs": [],
   "source": [
    "heroes_series = pd.Series(heroes_dict)"
   ]
  },
  {
   "cell_type": "code",
   "execution_count": 14,
   "metadata": {},
   "outputs": [
    {
     "data": {
      "text/plain": [
       "ana           200\n",
       "bastion       300\n",
       "dva           500\n",
       "genji         200\n",
       "hanjo         200\n",
       "junkrat       200\n",
       "lucio         200\n",
       "macree        200\n",
       "mei           250\n",
       "mercy         200\n",
       "pharah        200\n",
       "reaper        250\n",
       "reinhardt     500\n",
       "roadhog       600\n",
       "soldier76     200\n",
       "symmetra      200\n",
       "torbjorn      200\n",
       "tracer        150\n",
       "widowmaker    200\n",
       "winston       500\n",
       "zarya         400\n",
       "zenyatta      200\n",
       "dtype: int64"
      ]
     },
     "execution_count": 14,
     "metadata": {},
     "output_type": "execute_result"
    }
   ],
   "source": [
    "heroes_series"
   ]
  },
  {
   "cell_type": "code",
   "execution_count": 15,
   "metadata": {},
   "outputs": [],
   "source": [
    "heroes = { \"name\":[ 'ana', 'bastion', 'dva', 'genji', 'hanjo', 'junkrat', 'lucio', 'macree', 'mei', 'mercy', 'pharah', 'reaper', 'reinhardt', 'roadhog', 'soldier76', 'symmetra', 'torbjorn', 'tracer', 'widowmaker', 'winston', 'zarya', 'zenyatta' ], \"health\":[ 200, 300, 500, 200, 200, 200, 200, 200, 250, 200, 200, 250, 500, 600, 200, 200, 200, 150, 200, 500, 400, 200 ], \"position\":[ \"support\", \"defense\", \"tank\", \"offense\", \"defense\", \"defense\", \"support\", \"offense\", \"defense\", \"support\", \"offense\", \"offense\", \"tank\", \"tank\", \"offense\", \"support\", \"defense\", \"offense\", \"defense\", \"tank\", \"tank\",\"support\" ], \"id\":[ 1, 2, 3, 4, 5, 6, 7, 8, 9, 10, 11, 12, 13, 14, 15, 16, 17, 18, 19, 20, 21, 22 ] }"
   ]
  },
  {
   "cell_type": "code",
   "execution_count": 16,
   "metadata": {},
   "outputs": [],
   "source": [
    "heroes_df = pd.DataFrame(heroes)"
   ]
  },
  {
   "cell_type": "code",
   "execution_count": 17,
   "metadata": {},
   "outputs": [
    {
     "data": {
      "text/html": [
       "<div>\n",
       "<style>\n",
       "    .dataframe thead tr:only-child th {\n",
       "        text-align: right;\n",
       "    }\n",
       "\n",
       "    .dataframe thead th {\n",
       "        text-align: left;\n",
       "    }\n",
       "\n",
       "    .dataframe tbody tr th {\n",
       "        vertical-align: top;\n",
       "    }\n",
       "</style>\n",
       "<table border=\"1\" class=\"dataframe\">\n",
       "  <thead>\n",
       "    <tr style=\"text-align: right;\">\n",
       "      <th></th>\n",
       "      <th>health</th>\n",
       "      <th>id</th>\n",
       "      <th>name</th>\n",
       "      <th>position</th>\n",
       "    </tr>\n",
       "  </thead>\n",
       "  <tbody>\n",
       "    <tr>\n",
       "      <th>0</th>\n",
       "      <td>200</td>\n",
       "      <td>1</td>\n",
       "      <td>ana</td>\n",
       "      <td>support</td>\n",
       "    </tr>\n",
       "    <tr>\n",
       "      <th>1</th>\n",
       "      <td>300</td>\n",
       "      <td>2</td>\n",
       "      <td>bastion</td>\n",
       "      <td>defense</td>\n",
       "    </tr>\n",
       "    <tr>\n",
       "      <th>2</th>\n",
       "      <td>500</td>\n",
       "      <td>3</td>\n",
       "      <td>dva</td>\n",
       "      <td>tank</td>\n",
       "    </tr>\n",
       "    <tr>\n",
       "      <th>3</th>\n",
       "      <td>200</td>\n",
       "      <td>4</td>\n",
       "      <td>genji</td>\n",
       "      <td>offense</td>\n",
       "    </tr>\n",
       "    <tr>\n",
       "      <th>4</th>\n",
       "      <td>200</td>\n",
       "      <td>5</td>\n",
       "      <td>hanjo</td>\n",
       "      <td>defense</td>\n",
       "    </tr>\n",
       "    <tr>\n",
       "      <th>5</th>\n",
       "      <td>200</td>\n",
       "      <td>6</td>\n",
       "      <td>junkrat</td>\n",
       "      <td>defense</td>\n",
       "    </tr>\n",
       "    <tr>\n",
       "      <th>6</th>\n",
       "      <td>200</td>\n",
       "      <td>7</td>\n",
       "      <td>lucio</td>\n",
       "      <td>support</td>\n",
       "    </tr>\n",
       "    <tr>\n",
       "      <th>7</th>\n",
       "      <td>200</td>\n",
       "      <td>8</td>\n",
       "      <td>macree</td>\n",
       "      <td>offense</td>\n",
       "    </tr>\n",
       "    <tr>\n",
       "      <th>8</th>\n",
       "      <td>250</td>\n",
       "      <td>9</td>\n",
       "      <td>mei</td>\n",
       "      <td>defense</td>\n",
       "    </tr>\n",
       "    <tr>\n",
       "      <th>9</th>\n",
       "      <td>200</td>\n",
       "      <td>10</td>\n",
       "      <td>mercy</td>\n",
       "      <td>support</td>\n",
       "    </tr>\n",
       "    <tr>\n",
       "      <th>10</th>\n",
       "      <td>200</td>\n",
       "      <td>11</td>\n",
       "      <td>pharah</td>\n",
       "      <td>offense</td>\n",
       "    </tr>\n",
       "    <tr>\n",
       "      <th>11</th>\n",
       "      <td>250</td>\n",
       "      <td>12</td>\n",
       "      <td>reaper</td>\n",
       "      <td>offense</td>\n",
       "    </tr>\n",
       "    <tr>\n",
       "      <th>12</th>\n",
       "      <td>500</td>\n",
       "      <td>13</td>\n",
       "      <td>reinhardt</td>\n",
       "      <td>tank</td>\n",
       "    </tr>\n",
       "    <tr>\n",
       "      <th>13</th>\n",
       "      <td>600</td>\n",
       "      <td>14</td>\n",
       "      <td>roadhog</td>\n",
       "      <td>tank</td>\n",
       "    </tr>\n",
       "    <tr>\n",
       "      <th>14</th>\n",
       "      <td>200</td>\n",
       "      <td>15</td>\n",
       "      <td>soldier76</td>\n",
       "      <td>offense</td>\n",
       "    </tr>\n",
       "    <tr>\n",
       "      <th>15</th>\n",
       "      <td>200</td>\n",
       "      <td>16</td>\n",
       "      <td>symmetra</td>\n",
       "      <td>support</td>\n",
       "    </tr>\n",
       "    <tr>\n",
       "      <th>16</th>\n",
       "      <td>200</td>\n",
       "      <td>17</td>\n",
       "      <td>torbjorn</td>\n",
       "      <td>defense</td>\n",
       "    </tr>\n",
       "    <tr>\n",
       "      <th>17</th>\n",
       "      <td>150</td>\n",
       "      <td>18</td>\n",
       "      <td>tracer</td>\n",
       "      <td>offense</td>\n",
       "    </tr>\n",
       "    <tr>\n",
       "      <th>18</th>\n",
       "      <td>200</td>\n",
       "      <td>19</td>\n",
       "      <td>widowmaker</td>\n",
       "      <td>defense</td>\n",
       "    </tr>\n",
       "    <tr>\n",
       "      <th>19</th>\n",
       "      <td>500</td>\n",
       "      <td>20</td>\n",
       "      <td>winston</td>\n",
       "      <td>tank</td>\n",
       "    </tr>\n",
       "    <tr>\n",
       "      <th>20</th>\n",
       "      <td>400</td>\n",
       "      <td>21</td>\n",
       "      <td>zarya</td>\n",
       "      <td>tank</td>\n",
       "    </tr>\n",
       "    <tr>\n",
       "      <th>21</th>\n",
       "      <td>200</td>\n",
       "      <td>22</td>\n",
       "      <td>zenyatta</td>\n",
       "      <td>support</td>\n",
       "    </tr>\n",
       "  </tbody>\n",
       "</table>\n",
       "</div>"
      ],
      "text/plain": [
       "    health  id        name position\n",
       "0      200   1         ana  support\n",
       "1      300   2     bastion  defense\n",
       "2      500   3         dva     tank\n",
       "3      200   4       genji  offense\n",
       "4      200   5       hanjo  defense\n",
       "5      200   6     junkrat  defense\n",
       "6      200   7       lucio  support\n",
       "7      200   8      macree  offense\n",
       "8      250   9         mei  defense\n",
       "9      200  10       mercy  support\n",
       "10     200  11      pharah  offense\n",
       "11     250  12      reaper  offense\n",
       "12     500  13   reinhardt     tank\n",
       "13     600  14     roadhog     tank\n",
       "14     200  15   soldier76  offense\n",
       "15     200  16    symmetra  support\n",
       "16     200  17    torbjorn  defense\n",
       "17     150  18      tracer  offense\n",
       "18     200  19  widowmaker  defense\n",
       "19     500  20     winston     tank\n",
       "20     400  21       zarya     tank\n",
       "21     200  22    zenyatta  support"
      ]
     },
     "execution_count": 17,
     "metadata": {},
     "output_type": "execute_result"
    }
   ],
   "source": [
    "heroes_df"
   ]
  },
  {
   "cell_type": "code",
   "execution_count": 18,
   "metadata": {},
   "outputs": [],
   "source": [
    "csv_data = pd.read_csv(\"examples/book_list.csv\")"
   ]
  },
  {
   "cell_type": "code",
   "execution_count": 19,
   "metadata": {},
   "outputs": [
    {
     "data": {
      "text/html": [
       "<div>\n",
       "<style>\n",
       "    .dataframe thead tr:only-child th {\n",
       "        text-align: right;\n",
       "    }\n",
       "\n",
       "    .dataframe thead th {\n",
       "        text-align: left;\n",
       "    }\n",
       "\n",
       "    .dataframe tbody tr th {\n",
       "        vertical-align: top;\n",
       "    }\n",
       "</style>\n",
       "<table border=\"1\" class=\"dataframe\">\n",
       "  <thead>\n",
       "    <tr style=\"text-align: right;\">\n",
       "      <th></th>\n",
       "      <th>book_title</th>\n",
       "      <th>book_author</th>\n",
       "      <th>book_translator</th>\n",
       "      <th>book_pub_date</th>\n",
       "      <th>book_isbn</th>\n",
       "    </tr>\n",
       "  </thead>\n",
       "  <tbody>\n",
       "    <tr>\n",
       "      <th>0</th>\n",
       "      <td>러닝 리액트</td>\n",
       "      <td>알렉스 뱅크스 , 이브 포셀로</td>\n",
       "      <td>오현석</td>\n",
       "      <td>2018-02-13</td>\n",
       "      <td>9.791162e+12</td>\n",
       "    </tr>\n",
       "    <tr>\n",
       "      <th>1</th>\n",
       "      <td>저는 차트분석이 처음인데요 최신개정판</td>\n",
       "      <td>강병욱</td>\n",
       "      <td>2018-01-22</td>\n",
       "      <td>344 쪽</td>\n",
       "      <td>3.190000e+03</td>\n",
       "    </tr>\n",
       "    <tr>\n",
       "      <th>2</th>\n",
       "      <td>HOW TO WALK</td>\n",
       "      <td>틱낫한</td>\n",
       "      <td>진우기</td>\n",
       "      <td>2018-01-29</td>\n",
       "      <td>9.791158e+12</td>\n",
       "    </tr>\n",
       "    <tr>\n",
       "      <th>3</th>\n",
       "      <td>HOW TO RELAX</td>\n",
       "      <td>틱낫한</td>\n",
       "      <td>진우기</td>\n",
       "      <td>2018-01-29</td>\n",
       "      <td>9.791158e+12</td>\n",
       "    </tr>\n",
       "    <tr>\n",
       "      <th>4</th>\n",
       "      <td>HOW TO 시리즈(세트)</td>\n",
       "      <td>틱낫한</td>\n",
       "      <td>진우기</td>\n",
       "      <td>2018-01-29</td>\n",
       "      <td>9.791158e+12</td>\n",
       "    </tr>\n",
       "  </tbody>\n",
       "</table>\n",
       "</div>"
      ],
      "text/plain": [
       "             book_title        book_author book_translator book_pub_date  \\\n",
       "0                러닝 리액트  알렉스 뱅크스 , 이브 포셀로             오현석     2018-02-13   \n",
       "1  저는 차트분석이 처음인데요 최신개정판               강병욱       2018-01-22         344 쪽   \n",
       "2           HOW TO WALK               틱낫한             진우기     2018-01-29   \n",
       "3          HOW TO RELAX               틱낫한             진우기     2018-01-29   \n",
       "4        HOW TO 시리즈(세트)               틱낫한             진우기     2018-01-29   \n",
       "\n",
       "      book_isbn  \n",
       "0  9.791162e+12  \n",
       "1  3.190000e+03  \n",
       "2  9.791158e+12  \n",
       "3  9.791158e+12  \n",
       "4  9.791158e+12  "
      ]
     },
     "execution_count": 19,
     "metadata": {},
     "output_type": "execute_result"
    }
   ],
   "source": [
    "csv_data.head()"
   ]
  },
  {
   "cell_type": "code",
   "execution_count": null,
   "metadata": {},
   "outputs": [],
   "source": []
  }
 ],
 "metadata": {
  "kernelspec": {
   "display_name": "Python 3",
   "language": "python",
   "name": "python3"
  },
  "language_info": {
   "codemirror_mode": {
    "name": "ipython",
    "version": 3
   },
   "file_extension": ".py",
   "mimetype": "text/x-python",
   "name": "python",
   "nbconvert_exporter": "python",
   "pygments_lexer": "ipython3",
   "version": "3.6.3"
  }
 },
 "nbformat": 4,
 "nbformat_minor": 2
}
