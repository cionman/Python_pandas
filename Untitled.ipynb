{
 "cells": [
  {
   "cell_type": "code",
   "execution_count": 1,
   "metadata": {},
   "outputs": [],
   "source": [
    "import collections.abc"
   ]
  },
  {
   "cell_type": "code",
   "execution_count": 20,
   "metadata": {},
   "outputs": [],
   "source": [
    "class CustomData():\n",
    "    def __init__(self, iterable):\n",
    "        self.value = []\n",
    "        for value in iterable:\n",
    "            self.value.append(value)\n",
    "    def __eq__(self, value):\n",
    "        ret = []\n",
    "        print('CustomData value : ', value)\n",
    "        for v in self.value:\n",
    "            if (v == value):\n",
    "                ret.append(True)\n",
    "            else:\n",
    "                ret.append(False)\n",
    "        return tuple(ret)\n",
    "    \n",
    "    def __gt__(self, value):\n",
    "        ret = []\n",
    "        print('CustomData gt value : ', value)\n",
    "        for v in self.value:\n",
    "            if (v == value):\n",
    "                ret.append(True)\n",
    "            else:\n",
    "                ret.append(False)\n",
    "        return tuple(ret)"
   ]
  },
  {
   "cell_type": "code",
   "execution_count": 21,
   "metadata": {},
   "outputs": [
    {
     "data": {
      "text/plain": [
       "__main__.CustomData"
      ]
     },
     "execution_count": 21,
     "metadata": {},
     "output_type": "execute_result"
    }
   ],
   "source": [
    "CustomData"
   ]
  },
  {
   "cell_type": "code",
   "execution_count": 22,
   "metadata": {},
   "outputs": [],
   "source": [
    "class CustomList(collections.abc.Sequence):\n",
    "\n",
    "    def __init__(self, iterable):\n",
    "        self.value = []\n",
    "        for value in iterable:\n",
    "            self.value.append(value)\n",
    "    \n",
    "    def __getitem__(self, index):\n",
    "        print('Custom List index: ', index)\n",
    "        if isinstance(index, tuple):\n",
    "            ret = []\n",
    "            for i, value in enumerate(index):\n",
    "                if (value == True):\n",
    "                    ret.append(self.value[i])\n",
    "            return ret\n",
    "        return self.value[index]\n",
    "    \n",
    "\n",
    "    def __len__(self):\n",
    "        return len(self.value)  "
   ]
  },
  {
   "cell_type": "code",
   "execution_count": 23,
   "metadata": {},
   "outputs": [],
   "source": [
    "data = CustomData([2,2,1,2,1,2,1,2,1,2])"
   ]
  },
  {
   "cell_type": "code",
   "execution_count": 24,
   "metadata": {},
   "outputs": [],
   "source": [
    "cl = CustomList([1,2,3,4,5,6,7,8,9,10])"
   ]
  },
  {
   "cell_type": "code",
   "execution_count": 25,
   "metadata": {},
   "outputs": [
    {
     "name": "stdout",
     "output_type": "stream",
     "text": [
      "CustomData gt value :  2\n",
      "Custom List index:  (True, True, False, True, False, True, False, True, False, True)\n"
     ]
    }
   ],
   "source": [
    "t = cl[data > 2]"
   ]
  },
  {
   "cell_type": "code",
   "execution_count": 26,
   "metadata": {},
   "outputs": [
    {
     "data": {
      "text/plain": [
       "{3}"
      ]
     },
     "execution_count": 26,
     "metadata": {},
     "output_type": "execute_result"
    }
   ],
   "source": [
    "{2, 3, 4} & {3, 5, 7}"
   ]
  },
  {
   "cell_type": "code",
   "execution_count": null,
   "metadata": {},
   "outputs": [],
   "source": [
    "{True, False, True}"
   ]
  },
  {
   "cell_type": "code",
   "execution_count": null,
   "metadata": {},
   "outputs": [],
   "source": []
  },
  {
   "cell_type": "code",
   "execution_count": 11,
   "metadata": {},
   "outputs": [
    {
     "data": {
      "text/plain": [
       "[1, 2, 4, 6, 8, 10]"
      ]
     },
     "execution_count": 11,
     "metadata": {},
     "output_type": "execute_result"
    }
   ],
   "source": [
    "t"
   ]
  },
  {
   "cell_type": "code",
   "execution_count": null,
   "metadata": {},
   "outputs": [],
   "source": []
  }
 ],
 "metadata": {
  "kernelspec": {
   "display_name": "Python 3",
   "language": "python",
   "name": "python3"
  },
  "language_info": {
   "codemirror_mode": {
    "name": "ipython",
    "version": 3
   },
   "file_extension": ".py",
   "mimetype": "text/x-python",
   "name": "python",
   "nbconvert_exporter": "python",
   "pygments_lexer": "ipython3",
   "version": "3.6.3"
  }
 },
 "nbformat": 4,
 "nbformat_minor": 2
}
